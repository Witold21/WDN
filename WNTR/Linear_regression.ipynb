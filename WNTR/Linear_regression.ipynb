{
 "cells": [
  {
   "cell_type": "code",
   "execution_count": 1,
   "id": "unlike-picking",
   "metadata": {},
   "outputs": [
    {
     "ename": "ModuleNotFoundError",
     "evalue": "No module named 'wntr'",
     "output_type": "error",
     "traceback": [
      "\u001b[1;31m---------------------------------------------------------------------------\u001b[0m",
      "\u001b[1;31mModuleNotFoundError\u001b[0m                       Traceback (most recent call last)",
      "Cell \u001b[1;32mIn[1], line 1\u001b[0m\n\u001b[1;32m----> 1\u001b[0m \u001b[38;5;28;01mimport\u001b[39;00m \u001b[38;5;21;01mwntr\u001b[39;00m\n\u001b[0;32m      2\u001b[0m \u001b[38;5;28;01mimport\u001b[39;00m \u001b[38;5;21;01mpandas\u001b[39;00m \u001b[38;5;28;01mas\u001b[39;00m \u001b[38;5;21;01mpd\u001b[39;00m\n",
      "\u001b[1;31mModuleNotFoundError\u001b[0m: No module named 'wntr'"
     ]
    }
   ],
   "source": [
    "import wntr\n",
    "import pandas as pd"
   ]
  },
  {
   "cell_type": "markdown",
   "id": "popular-iraqi",
   "metadata": {},
   "source": [
    "# Custom function library"
   ]
  },
  {
   "cell_type": "code",
   "execution_count": null,
   "id": "invisible-survey",
   "metadata": {},
   "outputs": [],
   "source": [
    "from math import sqrt\n",
    "\n",
    "def distance_between_points(x1: float, y1: float, x2: float, y2: float) -> float:\n",
    "    \"\"\"\n",
    "    Returns distance between 2 points on a flat plane using pythagoreas theorem\n",
    "    Arguments: x1, y1 - first point coordinates (floats)\n",
    "               x2, y2 - second point coordinates (floats)\n",
    "    Returns: distance on a flat plane (float)\n",
    "    \"\"\"\n",
    "    return sqrt(((x1 - x2)**2) + ((y1 - y2)**2))\n",
    "\n",
    "def get_closest_nodes(water_network: wntr.network.WaterNetworkModel, base_node_name: str, max_distance: float) -> list:\n",
    "    \"\"\"\n",
    "    Finds nodes that are closest to base_node\n",
    "    Arguments: water_network - WNTR Water Network Model (wntr.network.WaterNetworkModel)\n",
    "               base_node_name - reference node name (str)\n",
    "               max_distance - units in meters (float)\n",
    "    Returns:   list of strings (names of closest nodes)\n",
    "    \"\"\"\n",
    "    \n",
    "    # get base node coordinates\n",
    "    x_base, y_base = wn.get_node(base_node_name).coordinates\n",
    "    \n",
    "    # check each node if it's in base node's proximity, if so append to list\n",
    "    closest_nodes = []\n",
    "    for node_name in wn.node_name_list:\n",
    "        x, y = wn.get_node(node_name).coordinates\n",
    "        if distance_between_points(x_base, y_base , x, y) <= max_distance:\n",
    "            closest_nodes.append(node_name)\n",
    "            \n",
    "    # remove the base node from return list (distance from itself is always 0)\n",
    "    closest_nodes.remove(base_node_name)\n",
    "    \n",
    "    return closest_nodes"
   ]
  },
  {
   "cell_type": "markdown",
   "id": "suitable-conspiracy",
   "metadata": {},
   "source": [
    "# Read a water network model, simulate without leaks"
   ]
  },
  {
   "cell_type": "code",
   "execution_count": null,
   "id": "functioning-german",
   "metadata": {},
   "outputs": [],
   "source": [
    "inp_file = 'Walkerton_v1.inp'\n",
    "wn = wntr.network.WaterNetworkModel(inp_file)\n",
    "sim = wntr.sim.WNTRSimulator(wn)\n",
    "results = sim.run_sim()"
   ]
  },
  {
   "cell_type": "markdown",
   "id": "monthly-figure",
   "metadata": {},
   "source": [
    "Which node will have its pressure predicted?"
   ]
  },
  {
   "cell_type": "code",
   "execution_count": null,
   "id": "traditional-launch",
   "metadata": {
    "scrolled": false
   },
   "outputs": [],
   "source": [
    "main_node = 'J126'\n",
    "\n",
    "# get the nodes pressure over time\n",
    "main_node_pressure = results.node['pressure'].loc[:, main_node]\n",
    "main_node_pressure"
   ]
  },
  {
   "cell_type": "markdown",
   "id": "killing-literature",
   "metadata": {},
   "source": [
    "Which nodes are the closest to the main node?"
   ]
  },
  {
   "cell_type": "code",
   "execution_count": null,
   "id": "cellular-sullivan",
   "metadata": {},
   "outputs": [],
   "source": [
    "max_distance = 400.0           # how far-away nodes are we considering?\n",
    "closest_nodes = get_closest_nodes(water_network=wn,\n",
    "                                  base_node_name=main_node,\n",
    "                                  max_distance=max_distance)\n",
    "print(f'{len(closest_nodes)} nodes found.')"
   ]
  },
  {
   "cell_type": "markdown",
   "id": "cathedral-statement",
   "metadata": {},
   "source": [
    "Get pressure over time for each close node"
   ]
  },
  {
   "cell_type": "code",
   "execution_count": null,
   "id": "meaning-stroke",
   "metadata": {
    "scrolled": true
   },
   "outputs": [],
   "source": [
    "closest_nodes_pressure = []\n",
    "for node in closest_nodes:\n",
    "    closest_nodes_pressure.append(results.node['pressure'].loc[:, node])\n",
    "    \n",
    "# merge into a single DataFrame\n",
    "closest_nodes_pressure = pd.concat(closest_nodes_pressure, axis=1)\n",
    "\n",
    "# add main node to have a complete dataset in single DataFrame\n",
    "noLeaks_data = pd.concat([closest_nodes_pressure, main_node_pressure], axis=1)\n",
    "    \n",
    "noLeaks_data"
   ]
  },
  {
   "cell_type": "markdown",
   "id": "attractive-aquatic",
   "metadata": {},
   "source": [
    "# Implement linear regression"
   ]
  },
  {
   "cell_type": "markdown",
   "id": "changed-flight",
   "metadata": {},
   "source": [
    "Shuffling dataset in order not to get a skewed test set"
   ]
  },
  {
   "cell_type": "code",
   "execution_count": null,
   "id": "textile-intention",
   "metadata": {
    "scrolled": true
   },
   "outputs": [],
   "source": [
    "from sklearn.utils import shuffle\n",
    "noLeaks_data_shuffled = shuffle(noLeaks_data)\n",
    "noLeaks_data_shuffled"
   ]
  },
  {
   "cell_type": "markdown",
   "id": "blond-grass",
   "metadata": {},
   "source": [
    "Divide dataset into train and test subsets"
   ]
  },
  {
   "cell_type": "code",
   "execution_count": null,
   "id": "pointed-pharmaceutical",
   "metadata": {
    "scrolled": true
   },
   "outputs": [],
   "source": [
    "test_set_size = 70                            # dataset has 673 records overall\n",
    "data_size = noLeaks_data_shuffled.shape[0]    # total number of rows\n",
    "\n",
    "# separate X from Y\n",
    "noLeaks_x = noLeaks_data_shuffled.loc[:, noLeaks_data_shuffled.columns != main_node]\n",
    "noLeaks_y = noLeaks_data_shuffled.loc[:, noLeaks_data_shuffled.columns == main_node]\n",
    "\n",
    "# get normalization stats for later\n",
    "norm_mean = noLeaks_x.mean()\n",
    "norm_std = noLeaks_x.std()\n",
    "\n",
    "# train data (prenorm - pre normalization)\n",
    "noLeaks_xtrain_prenorm = noLeaks_x[:-test_set_size]\n",
    "noLeaks_ytrain = noLeaks_y[:-test_set_size]\n",
    "\n",
    "# test data\n",
    "noLeaks_xtest_prenorm = noLeaks_x[data_size-test_set_size:]\n",
    "noLeaks_ytest = noLeaks_y[data_size-test_set_size:]\n",
    "\n",
    "noLeaks_xtrain_prenorm"
   ]
  },
  {
   "cell_type": "markdown",
   "id": "compact-palace",
   "metadata": {},
   "source": [
    "Normalize X dataset"
   ]
  },
  {
   "cell_type": "code",
   "execution_count": null,
   "id": "polished-scroll",
   "metadata": {},
   "outputs": [],
   "source": [
    "noLeaks_xtrain = (noLeaks_xtrain_prenorm - norm_mean) / norm_std\n",
    "noLeaks_xtest = (noLeaks_xtest_prenorm - norm_mean) / norm_std"
   ]
  },
  {
   "cell_type": "markdown",
   "id": "divine-absorption",
   "metadata": {},
   "source": [
    "Convert data to numpy array"
   ]
  },
  {
   "cell_type": "code",
   "execution_count": null,
   "id": "noble-horizon",
   "metadata": {},
   "outputs": [],
   "source": [
    "noLeaks_xtrain_array = noLeaks_xtrain.to_numpy()\n",
    "noLeaks_xtest_array = noLeaks_xtest.to_numpy()\n",
    "noLeaks_ytrain_array = noLeaks_ytrain.to_numpy()\n",
    "noLeaks_ytest_array = noLeaks_ytest.to_numpy()\n",
    "\n",
    "noLeaks_xtrain_array"
   ]
  },
  {
   "cell_type": "markdown",
   "id": "prospective-heavy",
   "metadata": {},
   "source": [
    "Create regression model, fit the data"
   ]
  },
  {
   "cell_type": "code",
   "execution_count": null,
   "id": "extended-terminology",
   "metadata": {},
   "outputs": [],
   "source": [
    "from sklearn import linear_model\n",
    "regression = linear_model.LinearRegression()\n",
    "regression.fit(noLeaks_xtrain_array, noLeaks_ytrain_array)"
   ]
  },
  {
   "cell_type": "markdown",
   "id": "loaded-fortune",
   "metadata": {},
   "source": [
    "# Review the model"
   ]
  },
  {
   "cell_type": "code",
   "execution_count": null,
   "id": "guided-router",
   "metadata": {},
   "outputs": [],
   "source": [
    "from sklearn.metrics import mean_squared_error, r2_score\n",
    "\n",
    "regression_y_pred = regression.predict(noLeaks_xtest_array)\n",
    "\n",
    "print(f'Coefficients: {regression.coef_}\\n')\n",
    "print(f'Mean squared error: {mean_squared_error(noLeaks_ytest_array, regression_y_pred)}\\n')\n",
    "print(f'Coefficient of determination R^2: {r2_score(noLeaks_ytest_array, regression_y_pred)}\\n')"
   ]
  },
  {
   "cell_type": "markdown",
   "id": "assured-heart",
   "metadata": {},
   "source": [
    "See the errors"
   ]
  },
  {
   "cell_type": "code",
   "execution_count": null,
   "id": "internal-people",
   "metadata": {
    "scrolled": true
   },
   "outputs": [],
   "source": [
    "errors_linear = noLeaks_ytest - regression_y_pred\n",
    "errors_linear"
   ]
  },
  {
   "cell_type": "code",
   "execution_count": null,
   "id": "amazing-firmware",
   "metadata": {},
   "outputs": [],
   "source": [
    "import matplotlib.pyplot as plt\n",
    "import matplotlib.patches as mpatches\n",
    "\n",
    "# reshape to 1-dimensional numpy array\n",
    "predictions = regression_y_pred.flatten()\n",
    "\n",
    "# convert it to DataFrame\n",
    "predictions_df = pd.DataFrame(predictions, index=noLeaks_ytest.index.copy())\n",
    "\n",
    "# plot setup\n",
    "ax = plt.gca()\n",
    "ax.set_title(label='Predictions and labels')\n",
    "ax.set_xlabel(xlabel='Time [s]')\n",
    "ax.set_ylabel(ylabel='Pressure [m]')\n",
    "red_patch = mpatches.Patch(color='red', label='Predictions')\n",
    "blue_patch = mpatches.Patch(color='blue', label='Labels')\n",
    "ax.legend(handles=[red_patch, blue_patch])\n",
    "\n",
    "# plot labels\n",
    "ax.scatter(noLeaks_ytest.index, noLeaks_ytest, color='blue', marker='x')\n",
    "\n",
    "# plot predictions\n",
    "ax.scatter(predictions_df.index, predictions_df, color='red', marker='.')"
   ]
  },
  {
   "cell_type": "markdown",
   "id": "parental-culture",
   "metadata": {},
   "source": [
    "# Read a water network model, simulate with leaks (leak on main node)"
   ]
  },
  {
   "cell_type": "markdown",
   "id": "nervous-lender",
   "metadata": {},
   "source": [
    "Read water network model"
   ]
  },
  {
   "cell_type": "code",
   "execution_count": null,
   "id": "endless-shade",
   "metadata": {},
   "outputs": [],
   "source": [
    "inp_file = 'Walkerton_v1.inp'\n",
    "wn_leaks = wntr.network.WaterNetworkModel(inp_file)"
   ]
  },
  {
   "cell_type": "markdown",
   "id": "respiratory-frontier",
   "metadata": {},
   "source": [
    "Add a leak on main node"
   ]
  },
  {
   "cell_type": "code",
   "execution_count": null,
   "id": "intended-century",
   "metadata": {},
   "outputs": [],
   "source": [
    "leak_node = wn_leaks.get_node(main_node)\n",
    "leak_node.add_leak(wn_leaks, area=0.01, start_time=50*3600, end_time=90*3600)"
   ]
  },
  {
   "cell_type": "markdown",
   "id": "proper-balloon",
   "metadata": {},
   "source": [
    "Run the simulation"
   ]
  },
  {
   "cell_type": "code",
   "execution_count": null,
   "id": "caroline-enzyme",
   "metadata": {},
   "outputs": [],
   "source": [
    "sim_leaks = wntr.sim.WNTRSimulator(wn_leaks)\n",
    "results_leaks = sim_leaks.run_sim()\n",
    "results_leaks.node['pressure']"
   ]
  },
  {
   "cell_type": "markdown",
   "id": "patent-escape",
   "metadata": {},
   "source": [
    "Get pressures in closest nodes"
   ]
  },
  {
   "cell_type": "code",
   "execution_count": null,
   "id": "behavioral-traffic",
   "metadata": {},
   "outputs": [],
   "source": [
    "closest_nodes_pressure_leak = []\n",
    "for node in closest_nodes:\n",
    "    closest_nodes_pressure_leak.append(results_leaks.node['pressure'].loc[:, node])\n",
    "\n",
    "# pressures for close nodes\n",
    "Leaks_xtest_prenorm = pd.concat(closest_nodes_pressure_leak, axis=1)\n",
    "\n",
    "# pressures for main node (the one with the leak)\n",
    "Leaks_ytest = results_leaks.node['pressure'].loc[:, main_node]\n",
    "\n",
    "# normalize x data just like in training set\n",
    "Leaks_xtest = (Leaks_xtest_prenorm - norm_mean) / norm_std\n",
    "\n",
    "Leaks_xtest"
   ]
  },
  {
   "cell_type": "markdown",
   "id": "enhanced-wings",
   "metadata": {},
   "source": [
    "# Review model in case of main node leak "
   ]
  },
  {
   "cell_type": "markdown",
   "id": "armed-language",
   "metadata": {},
   "source": [
    "Only the time period with a leak will really matter here"
   ]
  },
  {
   "cell_type": "code",
   "execution_count": null,
   "id": "compressed-target",
   "metadata": {
    "scrolled": true
   },
   "outputs": [],
   "source": [
    "leak_regression_y_pred = regression.predict(Leaks_xtest)\n",
    "\n",
    "print(f'Mean squared error: {mean_squared_error(Leaks_ytest, leak_regression_y_pred)}\\n')\n",
    "print(f'Coefficient of determination R^2: {r2_score(Leaks_ytest, leak_regression_y_pred)}\\n')"
   ]
  },
  {
   "cell_type": "code",
   "execution_count": null,
   "id": "unsigned-coaching",
   "metadata": {
    "scrolled": true
   },
   "outputs": [],
   "source": [
    "# get predictions on leak data\n",
    "leak_regression_y_pred = regression.predict(Leaks_xtest)\n",
    "leak_regression_y_pred\n",
    "\n",
    "# reshape to 1-dimensional numpy array\n",
    "leak_predictions = leak_regression_y_pred.flatten()\n",
    "\n",
    "# convert it to DataFrame\n",
    "leak_predictions_df = pd.DataFrame(leak_predictions, index=Leaks_ytest.index.copy())\n",
    "leak_predictions_df\n",
    "\n",
    "# plot setup\n",
    "leak_ax = plt.gca()\n",
    "leak_ax.set_title(label='Predictions and real values')\n",
    "leak_ax.set_xlabel(xlabel='Time [s]')\n",
    "leak_ax.set_ylabel(ylabel='Pressure [m]')\n",
    "leak_red_patch = mpatches.Patch(color='red', label='Predictions')\n",
    "leak_blue_patch = mpatches.Patch(color='blue', label='Real values')\n",
    "leak_ax.legend(handles=[leak_red_patch, leak_blue_patch])\n",
    "\n",
    "# plot labels\n",
    "leak_ax.scatter(Leaks_ytest.index, Leaks_ytest, color='blue', marker='x')\n",
    "\n",
    "# plot predictions\n",
    "leak_ax.scatter(leak_predictions_df.index, leak_predictions_df, color='red', marker='.')"
   ]
  },
  {
   "cell_type": "markdown",
   "id": "adopted-state",
   "metadata": {},
   "source": [
    "You can clearly see the time period when the leak happend, the diffrence between real value and prediction is about 10 m"
   ]
  },
  {
   "cell_type": "markdown",
   "id": "sealed-evanescence",
   "metadata": {},
   "source": [
    "# Read a water network model, simulate with leaks (leaks on nearby nodes)"
   ]
  },
  {
   "cell_type": "markdown",
   "id": "standing-oracle",
   "metadata": {},
   "source": [
    "Read water network model"
   ]
  },
  {
   "cell_type": "code",
   "execution_count": null,
   "id": "rubber-three",
   "metadata": {},
   "outputs": [],
   "source": [
    "inp_file = 'Walkerton_v1.inp'\n",
    "wn_leaks2 = wntr.network.WaterNetworkModel(inp_file)"
   ]
  },
  {
   "cell_type": "markdown",
   "id": "prostate-satisfaction",
   "metadata": {},
   "source": [
    "Add a leak on main node"
   ]
  },
  {
   "cell_type": "code",
   "execution_count": null,
   "id": "choice-inspiration",
   "metadata": {},
   "outputs": [],
   "source": [
    "nearby_node = 'J125'                          # from nearby nodes list\n",
    "leak_node2 = wn_leaks2.get_node(nearby_node)\n",
    "leak_node2.add_leak(wn_leaks2, area=0.01, start_time=50*3600, end_time=90*3600)"
   ]
  },
  {
   "cell_type": "markdown",
   "id": "premium-retrieval",
   "metadata": {},
   "source": [
    "Run the simulation"
   ]
  },
  {
   "cell_type": "code",
   "execution_count": null,
   "id": "arranged-sender",
   "metadata": {},
   "outputs": [],
   "source": [
    "sim_leaks2 = wntr.sim.WNTRSimulator(wn_leaks2)\n",
    "results_leaks2 = sim_leaks2.run_sim()\n",
    "results_leaks2.node['pressure']"
   ]
  },
  {
   "cell_type": "markdown",
   "id": "handy-broadcast",
   "metadata": {},
   "source": [
    "Get pressures in closest nodes"
   ]
  },
  {
   "cell_type": "code",
   "execution_count": null,
   "id": "prescription-track",
   "metadata": {},
   "outputs": [],
   "source": [
    "closest_nodes_pressure_leak2 = []\n",
    "for node in closest_nodes:\n",
    "    closest_nodes_pressure_leak2.append(results_leaks2.node['pressure'].loc[:, node])\n",
    "\n",
    "# pressures for close nodes\n",
    "Leaks_xtest_prenorm2 = pd.concat(closest_nodes_pressure_leak2, axis=1)\n",
    "\n",
    "# pressures for main node (the one with the leak)\n",
    "Leaks_ytest2 = results_leaks2.node['pressure'].loc[:, main_node]\n",
    "\n",
    "# normalize x data just like in training set\n",
    "Leaks_xtest2 = (Leaks_xtest_prenorm2 - norm_mean) / norm_std\n",
    "\n",
    "Leaks_xtest2"
   ]
  },
  {
   "cell_type": "markdown",
   "id": "medieval-translation",
   "metadata": {},
   "source": [
    "# Review model in case of nearby node leak "
   ]
  },
  {
   "cell_type": "markdown",
   "id": "small-collector",
   "metadata": {},
   "source": [
    "Only the time period with a leak will really matter here"
   ]
  },
  {
   "cell_type": "code",
   "execution_count": null,
   "id": "greenhouse-franklin",
   "metadata": {
    "scrolled": true
   },
   "outputs": [],
   "source": [
    "leak_regression_y_pred2 = regression.predict(Leaks_xtest)\n",
    "\n",
    "print(f'Mean squared error: {mean_squared_error(Leaks_ytest2, leak_regression_y_pred2)}\\n')\n",
    "print(f'Coefficient of determination R^2: {r2_score(Leaks_ytest2, leak_regression_y_pred2)}\\n')"
   ]
  },
  {
   "cell_type": "code",
   "execution_count": null,
   "id": "sophisticated-cornell",
   "metadata": {
    "scrolled": true
   },
   "outputs": [],
   "source": [
    "# get predictions on leak data\n",
    "leak_regression_y_pred2 = regression.predict(Leaks_xtest2)\n",
    "leak_regression_y_pred2\n",
    "\n",
    "# reshape to 1-dimensional numpy array\n",
    "leak_predictions2 = leak_regression_y_pred2.flatten()\n",
    "\n",
    "# convert it to DataFrame\n",
    "leak_predictions_df2 = pd.DataFrame(leak_predictions2, index=Leaks_ytest2.index.copy())\n",
    "leak_predictions_df2\n",
    "\n",
    "# plot setup\n",
    "leak_ax2 = plt.gca()\n",
    "leak_ax2.set_title(label='Predictions and real values')\n",
    "leak_ax2.set_xlabel(xlabel='Time [s]')\n",
    "leak_ax2.set_ylabel(ylabel='Pressure [m]')\n",
    "leak_red_patch2 = mpatches.Patch(color='red', label='Predictions')\n",
    "leak_blue_patch2 = mpatches.Patch(color='blue', label='Real values')\n",
    "leak_ax2.legend(handles=[leak_red_patch2, leak_blue_patch2])\n",
    "\n",
    "# plot labels\n",
    "leak_ax2.scatter(Leaks_ytest2.index, Leaks_ytest2, color='blue', marker='x')\n",
    "\n",
    "# plot predictions\n",
    "leak_ax2.scatter(leak_predictions_df2.index, leak_predictions_df2, color='red', marker='.')"
   ]
  },
  {
   "cell_type": "markdown",
   "id": "insured-foster",
   "metadata": {},
   "source": [
    "The diffrence is smaller, but still very noticable"
   ]
  }
 ],
 "metadata": {
  "kernelspec": {
   "display_name": "Python 3 (ipykernel)",
   "language": "python",
   "name": "python3"
  },
  "language_info": {
   "codemirror_mode": {
    "name": "ipython",
    "version": 3
   },
   "file_extension": ".py",
   "mimetype": "text/x-python",
   "name": "python",
   "nbconvert_exporter": "python",
   "pygments_lexer": "ipython3",
   "version": "3.13.0"
  }
 },
 "nbformat": 4,
 "nbformat_minor": 5
}
