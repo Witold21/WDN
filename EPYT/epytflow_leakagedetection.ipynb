{
 "cells": [
  {
   "cell_type": "markdown",
   "metadata": {},
   "source": [
    "# Use-Case: Machine Learning based Leakage Detection"
   ]
  },
  {
   "cell_type": "markdown",
   "metadata": {},
   "source": [
    "Anomaly detection such as leakage detection is a classic but often non-trivial task in WDN operation. With traditional (model-based) methods reaching their limits, Machine Learning offers promising solutions.\n",
    "\n",
    "#### Outline \n",
    "This notebook demonstrates how EPyT-Flow can be utilized to create a scenario containing several leakages that have to be detected.\n",
    "Here, we use a simple Machine Learning based leakage detector that is already included in EPyT-Flow.\n",
    "It consists of the following steps:\n",
    "1. Create a new (realistic) scenario.\n",
    "2. Add some leakages to the scenario.\n",
    "3. Create a simple Machine Learning based leakage detector.\n",
    "4. Evaluate the leakage detector."
   ]
  },
  {
   "cell_type": "code",
   "execution_count": 1,
   "metadata": {
    "scrolled": true
   },
   "outputs": [
    {
     "name": "stdout",
     "output_type": "stream",
     "text": [
      "Requirement already satisfied: epyt-flow in c:\\users\\wij\\desktop\\inżynierka\\epyt flow\\virepytflow\\lib\\site-packages (0.7.3)Note: you may need to restart the kernel to use updated packages.\n",
      "\n",
      "Requirement already satisfied: epyt>=1.2.0 in c:\\users\\wij\\desktop\\inżynierka\\epyt flow\\virepytflow\\lib\\site-packages (from epyt-flow) (1.2.0)\n",
      "Requirement already satisfied: requests>=2.31.0 in c:\\users\\wij\\desktop\\inżynierka\\epyt flow\\virepytflow\\lib\\site-packages (from epyt-flow) (2.32.3)\n",
      "Requirement already satisfied: scipy>=1.11.4 in c:\\users\\wij\\desktop\\inżynierka\\epyt flow\\virepytflow\\lib\\site-packages (from epyt-flow) (1.14.1)\n",
      "Requirement already satisfied: u-msgpack-python>=2.8.0 in c:\\users\\wij\\desktop\\inżynierka\\epyt flow\\virepytflow\\lib\\site-packages (from epyt-flow) (2.8.0)\n",
      "Requirement already satisfied: networkx>=3.2.1 in c:\\users\\wij\\desktop\\inżynierka\\epyt flow\\virepytflow\\lib\\site-packages (from epyt-flow) (3.4.2)\n",
      "Requirement already satisfied: scikit-learn>=1.4.0 in c:\\users\\wij\\desktop\\inżynierka\\epyt flow\\virepytflow\\lib\\site-packages (from epyt-flow) (1.5.2)\n",
      "Requirement already satisfied: tqdm>=4.66.2 in c:\\users\\wij\\desktop\\inżynierka\\epyt flow\\virepytflow\\lib\\site-packages (from epyt-flow) (4.67.0)\n",
      "Requirement already satisfied: openpyxl>=3.1.2 in c:\\users\\wij\\desktop\\inżynierka\\epyt flow\\virepytflow\\lib\\site-packages (from epyt-flow) (3.1.5)\n",
      "Requirement already satisfied: falcon>=3.1.3 in c:\\users\\wij\\desktop\\inżynierka\\epyt flow\\virepytflow\\lib\\site-packages (from epyt-flow) (4.0.2)\n",
      "Requirement already satisfied: multiprocess>=0.70.16 in c:\\users\\wij\\desktop\\inżynierka\\epyt flow\\virepytflow\\lib\\site-packages (from epyt-flow) (0.70.17)\n",
      "Requirement already satisfied: geopandas>=0.14.4 in c:\\users\\wij\\desktop\\inżynierka\\epyt flow\\virepytflow\\lib\\site-packages (from epyt-flow) (1.0.1)\n",
      "Requirement already satisfied: psutil in c:\\users\\wij\\desktop\\inżynierka\\epyt flow\\virepytflow\\lib\\site-packages (from epyt-flow) (6.1.0)\n",
      "Requirement already satisfied: numpy in c:\\users\\wij\\desktop\\inżynierka\\epyt flow\\virepytflow\\lib\\site-packages (from epyt>=1.2.0->epyt-flow) (2.1.3)\n",
      "Requirement already satisfied: matplotlib in c:\\users\\wij\\desktop\\inżynierka\\epyt flow\\virepytflow\\lib\\site-packages (from epyt>=1.2.0->epyt-flow) (3.9.2)\n",
      "Requirement already satisfied: pandas in c:\\users\\wij\\desktop\\inżynierka\\epyt flow\\virepytflow\\lib\\site-packages (from epyt>=1.2.0->epyt-flow) (2.2.3)\n",
      "Requirement already satisfied: xlsxwriter in c:\\users\\wij\\desktop\\inżynierka\\epyt flow\\virepytflow\\lib\\site-packages (from epyt>=1.2.0->epyt-flow) (3.2.0)\n",
      "Requirement already satisfied: setuptools in c:\\users\\wij\\desktop\\inżynierka\\epyt flow\\virepytflow\\lib\\site-packages (from epyt>=1.2.0->epyt-flow) (75.5.0)\n",
      "Requirement already satisfied: pyogrio>=0.7.2 in c:\\users\\wij\\desktop\\inżynierka\\epyt flow\\virepytflow\\lib\\site-packages (from geopandas>=0.14.4->epyt-flow) (0.10.0)\n",
      "Requirement already satisfied: packaging in c:\\users\\wij\\desktop\\inżynierka\\epyt flow\\virepytflow\\lib\\site-packages (from geopandas>=0.14.4->epyt-flow) (24.2)\n",
      "Requirement already satisfied: pyproj>=3.3.0 in c:\\users\\wij\\desktop\\inżynierka\\epyt flow\\virepytflow\\lib\\site-packages (from geopandas>=0.14.4->epyt-flow) (3.7.0)\n",
      "Requirement already satisfied: shapely>=2.0.0 in c:\\users\\wij\\desktop\\inżynierka\\epyt flow\\virepytflow\\lib\\site-packages (from geopandas>=0.14.4->epyt-flow) (2.0.6)\n",
      "Requirement already satisfied: dill>=0.3.9 in c:\\users\\wij\\desktop\\inżynierka\\epyt flow\\virepytflow\\lib\\site-packages (from multiprocess>=0.70.16->epyt-flow) (0.3.9)\n",
      "Requirement already satisfied: et-xmlfile in c:\\users\\wij\\desktop\\inżynierka\\epyt flow\\virepytflow\\lib\\site-packages (from openpyxl>=3.1.2->epyt-flow) (2.0.0)\n",
      "Requirement already satisfied: charset-normalizer<4,>=2 in c:\\users\\wij\\desktop\\inżynierka\\epyt flow\\virepytflow\\lib\\site-packages (from requests>=2.31.0->epyt-flow) (3.4.0)\n",
      "Requirement already satisfied: idna<4,>=2.5 in c:\\users\\wij\\desktop\\inżynierka\\epyt flow\\virepytflow\\lib\\site-packages (from requests>=2.31.0->epyt-flow) (3.10)\n",
      "Requirement already satisfied: urllib3<3,>=1.21.1 in c:\\users\\wij\\desktop\\inżynierka\\epyt flow\\virepytflow\\lib\\site-packages (from requests>=2.31.0->epyt-flow) (2.2.3)\n",
      "Requirement already satisfied: certifi>=2017.4.17 in c:\\users\\wij\\desktop\\inżynierka\\epyt flow\\virepytflow\\lib\\site-packages (from requests>=2.31.0->epyt-flow) (2024.8.30)\n",
      "Requirement already satisfied: joblib>=1.2.0 in c:\\users\\wij\\desktop\\inżynierka\\epyt flow\\virepytflow\\lib\\site-packages (from scikit-learn>=1.4.0->epyt-flow) (1.4.2)\n",
      "Requirement already satisfied: threadpoolctl>=3.1.0 in c:\\users\\wij\\desktop\\inżynierka\\epyt flow\\virepytflow\\lib\\site-packages (from scikit-learn>=1.4.0->epyt-flow) (3.5.0)\n",
      "Requirement already satisfied: colorama in c:\\users\\wij\\desktop\\inżynierka\\epyt flow\\virepytflow\\lib\\site-packages (from tqdm>=4.66.2->epyt-flow) (0.4.6)\n",
      "Requirement already satisfied: python-dateutil>=2.8.2 in c:\\users\\wij\\desktop\\inżynierka\\epyt flow\\virepytflow\\lib\\site-packages (from pandas->epyt>=1.2.0->epyt-flow) (2.9.0.post0)\n",
      "Requirement already satisfied: pytz>=2020.1 in c:\\users\\wij\\desktop\\inżynierka\\epyt flow\\virepytflow\\lib\\site-packages (from pandas->epyt>=1.2.0->epyt-flow) (2024.2)\n",
      "Requirement already satisfied: tzdata>=2022.7 in c:\\users\\wij\\desktop\\inżynierka\\epyt flow\\virepytflow\\lib\\site-packages (from pandas->epyt>=1.2.0->epyt-flow) (2024.2)\n",
      "Requirement already satisfied: contourpy>=1.0.1 in c:\\users\\wij\\desktop\\inżynierka\\epyt flow\\virepytflow\\lib\\site-packages (from matplotlib->epyt>=1.2.0->epyt-flow) (1.3.1)\n",
      "Requirement already satisfied: cycler>=0.10 in c:\\users\\wij\\desktop\\inżynierka\\epyt flow\\virepytflow\\lib\\site-packages (from matplotlib->epyt>=1.2.0->epyt-flow) (0.12.1)\n",
      "Requirement already satisfied: fonttools>=4.22.0 in c:\\users\\wij\\desktop\\inżynierka\\epyt flow\\virepytflow\\lib\\site-packages (from matplotlib->epyt>=1.2.0->epyt-flow) (4.55.0)\n",
      "Requirement already satisfied: kiwisolver>=1.3.1 in c:\\users\\wij\\desktop\\inżynierka\\epyt flow\\virepytflow\\lib\\site-packages (from matplotlib->epyt>=1.2.0->epyt-flow) (1.4.7)\n",
      "Requirement already satisfied: pillow>=8 in c:\\users\\wij\\desktop\\inżynierka\\epyt flow\\virepytflow\\lib\\site-packages (from matplotlib->epyt>=1.2.0->epyt-flow) (11.0.0)\n",
      "Requirement already satisfied: pyparsing>=2.3.1 in c:\\users\\wij\\desktop\\inżynierka\\epyt flow\\virepytflow\\lib\\site-packages (from matplotlib->epyt>=1.2.0->epyt-flow) (3.2.0)\n",
      "Requirement already satisfied: six>=1.5 in c:\\users\\wij\\desktop\\inżynierka\\epyt flow\\virepytflow\\lib\\site-packages (from python-dateutil>=2.8.2->pandas->epyt>=1.2.0->epyt-flow) (1.16.0)\n"
     ]
    }
   ],
   "source": [
    "%pip install epyt-flow"
   ]
  },
  {
   "cell_type": "code",
   "execution_count": 2,
   "metadata": {},
   "outputs": [],
   "source": [
    "import warnings\n",
    "warnings.filterwarnings(\"ignore\", category=DeprecationWarning)\n",
    "warnings.filterwarnings(\"ignore\", category=ImportWarning)\n",
    "\n",
    "import numpy as np\n",
    "import matplotlib.pyplot as plt\n",
    "\n",
    "from epyt_flow.data.networks import load_ltown\n",
    "from epyt_flow.simulation import ScenarioSimulator\n",
    "from epyt_flow.simulation.events import AbruptLeakage, IncipientLeakage\n",
    "from epyt_flow.utils import to_seconds, time_points_to_one_hot_encoding\n",
    "from epyt_flow.models import SensorInterpolationDetector"
   ]
  },
  {
   "cell_type": "markdown",
   "metadata": {},
   "source": [
    "### 1. Create new Scenario\n",
    "\n",
    "Create a new scenario based on the [L-Town network](https://epyt-flow.readthedocs.io/en/stable/epyt_flow.data.html#epyt_flow.data.networks.load_ltown) with a default sensor configuration and realistic demand patterns from the [BattLeDIM challenge](https://battledim.ucy.ac.cy/):"
   ]
  },
  {
   "cell_type": "code",
   "execution_count": 7,
   "metadata": {},
   "outputs": [
    {
     "ename": "NameError",
     "evalue": "name 'ToolkitConstants' is not defined",
     "output_type": "error",
     "traceback": [
      "\u001b[1;31m---------------------------------------------------------------------------\u001b[0m",
      "\u001b[1;31mNameError\u001b[0m                                 Traceback (most recent call last)",
      "Cell \u001b[1;32mIn[7], line 3\u001b[0m\n\u001b[0;32m      1\u001b[0m \u001b[38;5;28;01mwith\u001b[39;00m ScenarioSimulator(\u001b[38;5;124m\"\u001b[39m\u001b[38;5;124mWalkerton_v1.inp\u001b[39m\u001b[38;5;124m\"\u001b[39m) \u001b[38;5;28;01mas\u001b[39;00m sim:\n\u001b[0;32m      2\u001b[0m     \u001b[38;5;66;03m# Change flow units to CMH (cubic meter per hour)\u001b[39;00m\n\u001b[1;32m----> 3\u001b[0m     sim\u001b[38;5;241m.\u001b[39mset_general_parameters(flow_units_id\u001b[38;5;241m=\u001b[39m\u001b[43mToolkitConstants\u001b[49m\u001b[38;5;241m.\u001b[39mEN_CMH)\n",
      "\u001b[1;31mNameError\u001b[0m: name 'ToolkitConstants' is not defined"
     ]
    }
   ],
   "source": [
    "\n",
    "with ScenarioSimulator(\"Walkerton_v1.inp\") as sim:\n",
    "    # Change flow units to CMH (cubic meter per hour)\n",
    "    sim.set_general_parameters(flow_units_id=ToolkitConstants.EN_CMH)"
   ]
  },
  {
   "cell_type": "markdown",
   "metadata": {},
   "source": [
    "Set simulation duration to 2 weeks and use 5min time intervals for the hydraulics:"
   ]
  },
  {
   "cell_type": "code",
   "execution_count": null,
   "metadata": {},
   "outputs": [],
   "source": [
    "params = {\"simulation_duration\": to_seconds(days=14),\n",
    "          \"hydraulic_time_step\": to_seconds(minutes=5),\n",
    "          \"reporting_time_step\": to_seconds(minutes=5)}\n",
    "scenario.set_general_parameters(**params)"
   ]
  },
  {
   "cell_type": "markdown",
   "metadata": {},
   "source": [
    "### 2. Add Leakages to the Scenario\n",
    "\n",
    "In this example, we build a scenario with two leakages: A small abrupt leakage and a large incipient leakage in the second week:"
   ]
  },
  {
   "cell_type": "code",
   "execution_count": 8,
   "metadata": {},
   "outputs": [
    {
     "ename": "ValueError",
     "evalue": "Leakages are only implemented for the following flow units:\n EN_CMH (cubic foot/sec)\n EN_CFS (cubic meter/hr)",
     "output_type": "error",
     "traceback": [
      "\u001b[1;31m---------------------------------------------------------------------------\u001b[0m",
      "\u001b[1;31mValueError\u001b[0m                                Traceback (most recent call last)",
      "Cell \u001b[1;32mIn[8], line 4\u001b[0m\n\u001b[0;32m      1\u001b[0m leak1 \u001b[38;5;241m=\u001b[39m AbruptLeakage(link_id\u001b[38;5;241m=\u001b[39m\u001b[38;5;124m\"\u001b[39m\u001b[38;5;124mP108\u001b[39m\u001b[38;5;124m\"\u001b[39m, diameter\u001b[38;5;241m=\u001b[39m\u001b[38;5;241m0.002\u001b[39m,\n\u001b[0;32m      2\u001b[0m                       start_time\u001b[38;5;241m=\u001b[39mto_seconds(days\u001b[38;5;241m=\u001b[39m\u001b[38;5;241m7\u001b[39m),\n\u001b[0;32m      3\u001b[0m                       end_time\u001b[38;5;241m=\u001b[39mto_seconds(days\u001b[38;5;241m=\u001b[39m\u001b[38;5;241m8\u001b[39m))\n\u001b[1;32m----> 4\u001b[0m \u001b[43mscenario\u001b[49m\u001b[38;5;241;43m.\u001b[39;49m\u001b[43madd_leakage\u001b[49m\u001b[43m(\u001b[49m\u001b[43mleak1\u001b[49m\u001b[43m)\u001b[49m\n\u001b[0;32m      6\u001b[0m leak2 \u001b[38;5;241m=\u001b[39m IncipientLeakage(link_id\u001b[38;5;241m=\u001b[39m\u001b[38;5;124m\"\u001b[39m\u001b[38;5;124mP140\u001b[39m\u001b[38;5;124m\"\u001b[39m, diameter\u001b[38;5;241m=\u001b[39m\u001b[38;5;241m0.1\u001b[39m,\n\u001b[0;32m      7\u001b[0m                          start_time\u001b[38;5;241m=\u001b[39mto_seconds(days\u001b[38;5;241m=\u001b[39m\u001b[38;5;241m11\u001b[39m),\n\u001b[0;32m      8\u001b[0m                          end_time\u001b[38;5;241m=\u001b[39mto_seconds(days\u001b[38;5;241m=\u001b[39m\u001b[38;5;241m13\u001b[39m),\n\u001b[0;32m      9\u001b[0m                          peak_time\u001b[38;5;241m=\u001b[39mto_seconds(days\u001b[38;5;241m=\u001b[39m\u001b[38;5;241m12\u001b[39m))\n\u001b[0;32m     10\u001b[0m scenario\u001b[38;5;241m.\u001b[39madd_leakage(leak2)\n",
      "File \u001b[1;32m~\\Desktop\\Inżynierka\\EpyT Flow\\virEPYTFLOW\\Lib\\site-packages\\epyt_flow\\simulation\\scenario_simulator.py:986\u001b[0m, in \u001b[0;36mScenarioSimulator.add_leakage\u001b[1;34m(self, leakage_event)\u001b[0m\n\u001b[0;32m    981\u001b[0m \u001b[38;5;28;01mif\u001b[39;00m \u001b[38;5;129;01mnot\u001b[39;00m \u001b[38;5;28misinstance\u001b[39m(leakage_event, Leakage):\n\u001b[0;32m    982\u001b[0m     \u001b[38;5;28;01mraise\u001b[39;00m \u001b[38;5;167;01mTypeError\u001b[39;00m(\u001b[38;5;124m\"\u001b[39m\u001b[38;5;124m'\u001b[39m\u001b[38;5;124mleakage_event\u001b[39m\u001b[38;5;124m'\u001b[39m\u001b[38;5;124m must be an instance of \u001b[39m\u001b[38;5;124m\"\u001b[39m \u001b[38;5;241m+\u001b[39m\n\u001b[0;32m    983\u001b[0m                     \u001b[38;5;124m\"\u001b[39m\u001b[38;5;124m'\u001b[39m\u001b[38;5;124mepyt_flow.simulation.events.Leakage\u001b[39m\u001b[38;5;124m'\u001b[39m\u001b[38;5;124m not of \u001b[39m\u001b[38;5;124m\"\u001b[39m \u001b[38;5;241m+\u001b[39m\n\u001b[0;32m    984\u001b[0m                     \u001b[38;5;124mf\u001b[39m\u001b[38;5;124m\"\u001b[39m\u001b[38;5;124m'\u001b[39m\u001b[38;5;132;01m{\u001b[39;00m\u001b[38;5;28mtype\u001b[39m(leakage_event)\u001b[38;5;132;01m}\u001b[39;00m\u001b[38;5;124m'\u001b[39m\u001b[38;5;124m\"\u001b[39m)\n\u001b[1;32m--> 986\u001b[0m \u001b[38;5;28;43mself\u001b[39;49m\u001b[38;5;241;43m.\u001b[39;49m\u001b[43madd_system_event\u001b[49m\u001b[43m(\u001b[49m\u001b[43mleakage_event\u001b[49m\u001b[43m)\u001b[49m\n",
      "File \u001b[1;32m~\\Desktop\\Inżynierka\\EpyT Flow\\virEPYTFLOW\\Lib\\site-packages\\epyt_flow\\simulation\\scenario_simulator.py:1024\u001b[0m, in \u001b[0;36mScenarioSimulator.add_system_event\u001b[1;34m(self, event)\u001b[0m\n\u001b[0;32m   1020\u001b[0m \u001b[38;5;28;01mif\u001b[39;00m \u001b[38;5;129;01mnot\u001b[39;00m \u001b[38;5;28misinstance\u001b[39m(event, SystemEvent):\n\u001b[0;32m   1021\u001b[0m     \u001b[38;5;28;01mraise\u001b[39;00m \u001b[38;5;167;01mTypeError\u001b[39;00m(\u001b[38;5;124m\"\u001b[39m\u001b[38;5;124m'\u001b[39m\u001b[38;5;124mevent\u001b[39m\u001b[38;5;124m'\u001b[39m\u001b[38;5;124m must be an instance of \u001b[39m\u001b[38;5;124m\"\u001b[39m \u001b[38;5;241m+\u001b[39m\n\u001b[0;32m   1022\u001b[0m                     \u001b[38;5;124mf\u001b[39m\u001b[38;5;124m\"\u001b[39m\u001b[38;5;124m'\u001b[39m\u001b[38;5;124mepyt_flow.simulation.events.SystemEvent\u001b[39m\u001b[38;5;124m'\u001b[39m\u001b[38;5;124m not of \u001b[39m\u001b[38;5;124m'\u001b[39m\u001b[38;5;132;01m{\u001b[39;00m\u001b[38;5;28mtype\u001b[39m(event)\u001b[38;5;132;01m}\u001b[39;00m\u001b[38;5;124m'\u001b[39m\u001b[38;5;124m\"\u001b[39m)\n\u001b[1;32m-> 1024\u001b[0m \u001b[43mevent\u001b[49m\u001b[38;5;241;43m.\u001b[39;49m\u001b[43minit\u001b[49m\u001b[43m(\u001b[49m\u001b[38;5;28;43mself\u001b[39;49m\u001b[38;5;241;43m.\u001b[39;49m\u001b[43mepanet_api\u001b[49m\u001b[43m)\u001b[49m\n\u001b[0;32m   1026\u001b[0m \u001b[38;5;28mself\u001b[39m\u001b[38;5;241m.\u001b[39m__system_events\u001b[38;5;241m.\u001b[39mappend(event)\n",
      "File \u001b[1;32m~\\Desktop\\Inżynierka\\EpyT Flow\\virEPYTFLOW\\Lib\\site-packages\\epyt_flow\\simulation\\events\\leakages.py:318\u001b[0m, in \u001b[0;36mAbruptLeakage.init\u001b[1;34m(self, epanet_api)\u001b[0m\n\u001b[0;32m    317\u001b[0m \u001b[38;5;28;01mdef\u001b[39;00m \u001b[38;5;21minit\u001b[39m(\u001b[38;5;28mself\u001b[39m, epanet_api: epyt\u001b[38;5;241m.\u001b[39mepanet) \u001b[38;5;241m-\u001b[39m\u001b[38;5;241m>\u001b[39m \u001b[38;5;28;01mNone\u001b[39;00m:\n\u001b[1;32m--> 318\u001b[0m     \u001b[38;5;28;43msuper\u001b[39;49m\u001b[43m(\u001b[49m\u001b[43m)\u001b[49m\u001b[38;5;241;43m.\u001b[39;49m\u001b[43minit\u001b[49m\u001b[43m(\u001b[49m\u001b[43mepanet_api\u001b[49m\u001b[43m)\u001b[49m\n\u001b[0;32m    320\u001b[0m     \u001b[38;5;66;03m# Set pattern\u001b[39;00m\n\u001b[0;32m    321\u001b[0m     total_sim_duration \u001b[38;5;241m=\u001b[39m \u001b[38;5;28mself\u001b[39m\u001b[38;5;241m.\u001b[39m_epanet_api\u001b[38;5;241m.\u001b[39mgetTimeSimulationDuration()\n",
      "File \u001b[1;32m~\\Desktop\\Inżynierka\\EpyT Flow\\virEPYTFLOW\\Lib\\site-packages\\epyt_flow\\simulation\\events\\leakages.py:271\u001b[0m, in \u001b[0;36mLeakage.init\u001b[1;34m(self, epanet_api)\u001b[0m\n\u001b[0;32m    268\u001b[0m \u001b[38;5;28mself\u001b[39m\u001b[38;5;241m.\u001b[39m_epanet_api\u001b[38;5;241m.\u001b[39msetNodeEmitterCoeff(\u001b[38;5;28mself\u001b[39m\u001b[38;5;241m.\u001b[39m__leaky_node_id, \u001b[38;5;241m0.\u001b[39m)\n\u001b[0;32m    270\u001b[0m \u001b[38;5;66;03m# Compute leak emitter coefficient\u001b[39;00m\n\u001b[1;32m--> 271\u001b[0m \u001b[38;5;28mself\u001b[39m\u001b[38;5;241m.\u001b[39m__leak_emitter_coef \u001b[38;5;241m=\u001b[39m \u001b[38;5;28;43mself\u001b[39;49m\u001b[38;5;241;43m.\u001b[39;49m\u001b[43mcompute_leak_emitter_coefficient\u001b[49m\u001b[43m(\u001b[49m\n\u001b[0;32m    272\u001b[0m \u001b[43m    \u001b[49m\u001b[38;5;28;43mself\u001b[39;49m\u001b[38;5;241;43m.\u001b[39;49m\u001b[43mcompute_leak_area\u001b[49m\u001b[43m(\u001b[49m\u001b[38;5;28;43mself\u001b[39;49m\u001b[38;5;241;43m.\u001b[39;49m\u001b[43marea\u001b[49m\u001b[43m)\u001b[49m\u001b[43m)\u001b[49m\n",
      "File \u001b[1;32m~\\Desktop\\Inżynierka\\EpyT Flow\\virEPYTFLOW\\Lib\\site-packages\\epyt_flow\\simulation\\events\\leakages.py:240\u001b[0m, in \u001b[0;36mLeakage.compute_leak_emitter_coefficient\u001b[1;34m(self, area, discharge_coef)\u001b[0m\n\u001b[0;32m    238\u001b[0m     g \u001b[38;5;241m=\u001b[39m \u001b[38;5;241m32.17405\u001b[39m    \u001b[38;5;66;03m# feet/s^2\u001b[39;00m\n\u001b[0;32m    239\u001b[0m \u001b[38;5;28;01melse\u001b[39;00m:\n\u001b[1;32m--> 240\u001b[0m     \u001b[38;5;28;01mraise\u001b[39;00m \u001b[38;5;167;01mValueError\u001b[39;00m(\u001b[38;5;124m\"\u001b[39m\u001b[38;5;124mLeakages are only implemented for the following flow units:\u001b[39m\u001b[38;5;130;01m\\n\u001b[39;00m\u001b[38;5;124m\"\u001b[39m \u001b[38;5;241m+\u001b[39m\n\u001b[0;32m    241\u001b[0m                      \u001b[38;5;124m\"\u001b[39m\u001b[38;5;124m EN_CMH (cubic foot/sec)\u001b[39m\u001b[38;5;130;01m\\n\u001b[39;00m\u001b[38;5;124m EN_CFS (cubic meter/hr)\u001b[39m\u001b[38;5;124m\"\u001b[39m)\n\u001b[0;32m    243\u001b[0m \u001b[38;5;28;01mreturn\u001b[39;00m discharge_coef \u001b[38;5;241m*\u001b[39m area \u001b[38;5;241m*\u001b[39m np\u001b[38;5;241m.\u001b[39msqrt(\u001b[38;5;241m2.\u001b[39m \u001b[38;5;241m*\u001b[39m g)\n",
      "\u001b[1;31mValueError\u001b[0m: Leakages are only implemented for the following flow units:\n EN_CMH (cubic foot/sec)\n EN_CFS (cubic meter/hr)"
     ]
    }
   ],
   "source": [
    "leak1 = AbruptLeakage(link_id=\"P108\", diameter=0.002,\n",
    "                      start_time=to_seconds(days=7),\n",
    "                      end_time=to_seconds(days=8))\n",
    "scenario.add_leakage(leak1)\n",
    "\n",
    "leak2 = IncipientLeakage(link_id=\"P140\", diameter=0.1,\n",
    "                         start_time=to_seconds(days=11),\n",
    "                         end_time=to_seconds(days=13),\n",
    "                         peak_time=to_seconds(days=12))\n",
    "scenario.add_leakage(leak2)"
   ]
  },
  {
   "cell_type": "markdown",
   "metadata": {},
   "source": [
    "Run the complete simulation:"
   ]
  },
  {
   "cell_type": "code",
   "execution_count": null,
   "metadata": {},
   "outputs": [],
   "source": [
    "scada_data = scenario.run_simulation(verbose=True)"
   ]
  },
  {
   "cell_type": "markdown",
   "metadata": {},
   "source": [
    "### 3. Machine Learning based Leakage Detection"
   ]
  },
  {
   "cell_type": "markdown",
   "metadata": {},
   "source": [
    "Prepare the simulation results for calibrating (i.e. creating) a Machine Learning based leakage detection method:\n",
    "\n",
    "- Create a feature vector (pressure and flow readings at the sensors).\n",
    "- Create ground-truth labels utilizing the [`time_points_to_one_hot_encoding()`](https://epyt-flow.readthedocs.io/en/stable/epyt_flow.html#epyt_flow.utils.time_points_to_one_hot_encoding) helper function."
   ]
  },
  {
   "cell_type": "code",
   "execution_count": null,
   "metadata": {},
   "outputs": [],
   "source": [
    "# Concatenate pressure and flow readings into a single feature vector\n",
    "X = np.concatenate((scada_data.get_data_pressures(), scada_data.get_data_flows()), axis=1)\n",
    "\n",
    "# Build ground-truth labels -- i.e. indicator of events\n",
    "events_times = [int(t / params[\"hydraulic_time_step\"])\n",
    "                for t in scenario.get_events_active_time_points()]\n",
    "y = time_points_to_one_hot_encoding(events_times, total_length=X.shape[0])"
   ]
  },
  {
   "cell_type": "markdown",
   "metadata": {},
   "source": [
    "Split the data into train and test set -- here, training data is the fault-free first week of the simulation and the second week (containing the leakages) is the test data:"
   ]
  },
  {
   "cell_type": "code",
   "execution_count": null,
   "metadata": {},
   "outputs": [],
   "source": [
    "split_point = 2000\n",
    "X_train, y_train = X[:split_point, :], y[:split_point]\n",
    "X_test, y_test = X[split_point:, :], y[split_point:]"
   ]
  },
  {
   "cell_type": "markdown",
   "metadata": {},
   "source": [
    "#### Machine Learning based Event Detector\n",
    "\n",
    "\n",
    "As a classic baseline, EPyT-Flow already implements a residual-based interpolation detection method called [`SensorInterpolationDetector`](https://epyt-flow.readthedocs.io/en/stable/epyt_flow.models.html#epyt_flow.models.sensor_interpolation_detector.SensorInterpolationDetector).\n",
    "\n",
    "This method tries to predict the readings of a given sensor based on all other sensors: $f: \\vec{x}_t\\setminus\\{i\\} \\mapsto (\\vec{x}_t)_i$, where $\\vec{x}_t$ refers to these sensor ratings at time $t$, and $\\vec{x}_t\\setminus\\{i\\}$ denotes these sensor readings without the $i$-th sensor.\n",
    "An alarm is raised (i.e. event detected) whenever the prediction and the observation of at least one sensor differ significantly:\n",
    "$$\n",
    "   \\exists i:\\; |f(\\vec{x}_t\\setminus\\{i\\}) - (\\vec{x}_t)_i| > \\theta_i\n",
    "$$\n",
    "where $\\theta_i > 0$ denotes a sensor-specific threshold at which the difference is considered as significant.\n",
    "For this, the detection method has to be calibrated (i.e. fitted) to a time window of (ideally event-free) sensor readings to determine a suitable threshold $\\theta$ that does not raise an alarm when the network is in normal operation (i.e. no events present).\n",
    "\n",
    "We use this event detector to detect leakages in our generated scenario.\n",
    "We create and calibrate (i.e. fit) the leakage detector to the first week of simulated data:"
   ]
  },
  {
   "cell_type": "code",
   "execution_count": null,
   "metadata": {},
   "outputs": [],
   "source": [
    "detector = SensorInterpolationDetector()\n",
    "detector.fit(X_train)"
   ]
  },
  {
   "cell_type": "markdown",
   "metadata": {},
   "source": [
    "Apply the detector to the test data (i.e. second week of simulated data):"
   ]
  },
  {
   "cell_type": "code",
   "execution_count": null,
   "metadata": {},
   "outputs": [],
   "source": [
    "suspicious_time_points = detector.apply(X_test)\n",
    "y_test_pred = time_points_to_one_hot_encoding(suspicious_time_points, X_test.shape[0])"
   ]
  },
  {
   "cell_type": "markdown",
   "metadata": {},
   "source": [
    "### 4. Evaluation\n",
    "\n",
    "In order to evaluate the performance of the leakage detector, we could either compute the [confusion matrix](https://en.wikipedia.org/wiki/Confusion_matrix) or plot the raised alarms together with the ground truth labels.\n",
    "\n",
    "Here, we plot event (i.e. leakage) presence over time together with the raised alarms by the detector:"
   ]
  },
  {
   "cell_type": "code",
   "execution_count": null,
   "metadata": {},
   "outputs": [],
   "source": [
    "plt.figure()\n",
    "plt.plot(list(range(len(y_test))), y_test, color=\"red\", label=\"Ground truth\")\n",
    "plt.bar(list(range(len(y_test_pred))), y_test_pred, label=\"Raised alarm\")\n",
    "plt.legend()\n",
    "plt.ylabel(\"Leakage indicator\")\n",
    "plt.yticks([0, 1], [\"Inactive\", \"Active\"])\n",
    "plt.xlabel(\"Time (5min steps)\")\n",
    "plt.show()"
   ]
  },
  {
   "cell_type": "markdown",
   "metadata": {},
   "source": [
    "We observe that the small abrupt leakage is not detected, while the large incipient leakage is detected -- only a single false alarm is raised.\n",
    "\n",
    "**Note:** More advanced algorithms & methods are likely to show a better detection performance."
   ]
  },
  {
   "cell_type": "markdown",
   "metadata": {},
   "source": [
    "### Close the Simulation\n",
    "\n",
    "Do not forget to close the simulation:"
   ]
  },
  {
   "cell_type": "code",
   "execution_count": null,
   "metadata": {},
   "outputs": [],
   "source": [
    "scenario.close()"
   ]
  }
 ],
 "metadata": {
  "kernelspec": {
   "display_name": "Python 3 (ipykernel)",
   "language": "python",
   "name": "python3"
  },
  "language_info": {
   "codemirror_mode": {
    "name": "ipython",
    "version": 3
   },
   "file_extension": ".py",
   "mimetype": "text/x-python",
   "name": "python",
   "nbconvert_exporter": "python",
   "pygments_lexer": "ipython3",
   "version": "3.13.0"
  }
 },
 "nbformat": 4,
 "nbformat_minor": 4
}
